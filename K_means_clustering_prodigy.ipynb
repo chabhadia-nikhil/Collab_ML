{
  "nbformat": 4,
  "nbformat_minor": 0,
  "metadata": {
    "colab": {
      "provenance": [],
      "gpuType": "T4",
      "authorship_tag": "ABX9TyN2AkEangFADeaowhvl34ea",
      "include_colab_link": true
    },
    "kernelspec": {
      "name": "python3",
      "display_name": "Python 3"
    },
    "language_info": {
      "name": "python"
    },
    "accelerator": "GPU"
  },
  "cells": [
    {
      "cell_type": "markdown",
      "metadata": {
        "id": "view-in-github",
        "colab_type": "text"
      },
      "source": [
        "<a href=\"https://colab.research.google.com/github/chabhadia-nikhil/Collab_ML/blob/main/K_means_clustering_prodigy.ipynb\" target=\"_parent\"><img src=\"https://colab.research.google.com/assets/colab-badge.svg\" alt=\"Open In Colab\"/></a>"
      ]
    },
    {
      "cell_type": "code",
      "execution_count": null,
      "metadata": {
        "id": "lW8wLHpjOdkW"
      },
      "outputs": [],
      "source": [
        "import pandas as pd\n",
        "import numpy as np\n",
        "import matplotlib.pyplot as plt\n"
      ]
    },
    {
      "cell_type": "markdown",
      "source": [
        "# Retrieving Data"
      ],
      "metadata": {
        "id": "4rUY_Bpnf3WJ"
      }
    },
    {
      "cell_type": "code",
      "source": [
        "data = \"/content/Mall_Customers.csv\"\n",
        "data = pd.read_csv(data)"
      ],
      "metadata": {
        "id": "IxPeA1LrO5hE"
      },
      "execution_count": null,
      "outputs": []
    },
    {
      "cell_type": "markdown",
      "source": [
        "# Calculating Spendings\n",
        "If spend score is the percentage of their spending then actucal value that is spent is Spend Score*annual income/100"
      ],
      "metadata": {
        "id": "AQkE6wLygZT4"
      }
    },
    {
      "cell_type": "code",
      "source": [
        "#if spend score is the percentage of their spending then actucal value that is spent is Spend Score*annual income/100\n",
        "data['Spending (k$)'] = (data['Annual Income (k$)']*data['Spending Score (1-100)'])/100"
      ],
      "metadata": {
        "id": "5lbKmcwKQjyA"
      },
      "execution_count": null,
      "outputs": []
    },
    {
      "cell_type": "markdown",
      "source": [
        "# Scatter Plot\n",
        "Between Annual Income and Spending score"
      ],
      "metadata": {
        "id": "8rksCuPQgvtn"
      }
    },
    {
      "cell_type": "code",
      "source": [
        "f = plt.figure()\n",
        "f.set_figwidth(6)\n",
        "f.set_figheight(5)\n",
        "plt.scatter(data['Annual Income (k$)'],data['Spending Score (1-100)'])\n",
        "plt.xlabel(\"Annual Income (k$)\")\n",
        "plt.ylabel(\"Spending Score (1-100)\")"
      ],
      "metadata": {
        "id": "3YH81K9sXiXu"
      },
      "execution_count": null,
      "outputs": []
    },
    {
      "cell_type": "markdown",
      "source": [
        "# Training\n",
        "Calculating number of clusters to be formed and by plotting inertia graph."
      ],
      "metadata": {
        "id": "3vncWexZhLaP"
      }
    },
    {
      "cell_type": "code",
      "source": [
        "from sklearn.cluster import KMeans\n",
        "# calculating inertia\n",
        "inertias =[]\n",
        "x = np.arange(1,10)\n",
        "for i in range(1,10):\n",
        "  kmeans = KMeans(n_clusters = i)\n",
        "  kmeans.fit(data[['Annual Income (k$)','Spending Score (1-100)']])\n",
        "  inertias.append(kmeans.inertia_)\n",
        "plt.plot(x,inertias)\n",
        "plt.xlabel(\"No. Clusters\")\n",
        "plt.ylabel(\"Inertias\")"
      ],
      "metadata": {
        "id": "qo1xT4KKYd71"
      },
      "execution_count": null,
      "outputs": []
    },
    {
      "cell_type": "markdown",
      "source": [
        "Applying kmeans algorithm"
      ],
      "metadata": {
        "id": "vfvCG5jNh41-"
      }
    },
    {
      "cell_type": "code",
      "source": [
        "# from the elbow graph we see that cluster should be 5 as it has low inertia and low number of cluster ( we can say that using elbow method 5 is optimal)\n",
        "kmeans = KMeans(n_clusters = 5)\n",
        "predicted_class=kmeans.fit_predict(data[['Annual Income (k$)','Spending Score (1-100)']])\n",
        "data['Predicted Class'] = predicted_class\n"
      ],
      "metadata": {
        "id": "n_HXirE0nnwj"
      },
      "execution_count": null,
      "outputs": []
    },
    {
      "cell_type": "markdown",
      "source": [
        "To get location of centroids"
      ],
      "metadata": {
        "id": "pLNQ3Mjehlqf"
      }
    },
    {
      "cell_type": "code",
      "source": [
        "cluster_centers=kmeans.cluster_centers_\n"
      ],
      "metadata": {
        "id": "SppqbeGrdveH"
      },
      "execution_count": null,
      "outputs": []
    },
    {
      "cell_type": "code",
      "source": [
        "df0 = data[data['Predicted Class']==0]\n",
        "df1 = data[data['Predicted Class']==1]\n",
        "df2 = data[data['Predicted Class']==2]\n",
        "df3 = data[data['Predicted Class']==3]\n",
        "df4 = data[data['Predicted Class']==4]\n"
      ],
      "metadata": {
        "id": "a3DuC_pR1QNo"
      },
      "execution_count": null,
      "outputs": []
    },
    {
      "cell_type": "markdown",
      "source": [
        "Plotting final Graph"
      ],
      "metadata": {
        "id": "lLmPEf-Jhwev"
      }
    },
    {
      "cell_type": "code",
      "source": [
        "#plotting graph\n",
        "\n",
        "plt.scatter(x=df0['Annual Income (k$)'],y=df0['Spending Score (1-100)'],c=\"green\",marker=\"*\")\n",
        "plt.scatter(x=df1['Annual Income (k$)'],y=df1['Spending Score (1-100)'],c=\"cyan\",marker=\"*\")\n",
        "plt.scatter(x=df2['Annual Income (k$)'],y=df2['Spending Score (1-100)'],c=\"yellow\",marker=\"*\")\n",
        "plt.scatter(x=df3['Annual Income (k$)'],y=df3['Spending Score (1-100)'],c=\"purple\",marker=\"*\")\n",
        "plt.scatter(x=df4['Annual Income (k$)'],y=df4['Spending Score (1-100)'],c=\"sienna\",marker=\"*\")\n",
        "\n",
        "plt.scatter(x=cluster_centers[:,0],y=cluster_centers[:,1],c=\"red\",linewidths=2,edgecolors=\"black\")\n",
        "plt.xlabel(\"Annual Income (k$)\")\n",
        "plt.ylabel(\"Spending Score (1-100)\")\n",
        "plt.title(\"Annual Income (k$) vs Spending Score (1-100) \")\n",
        "\n"
      ],
      "metadata": {
        "id": "xWStTaQgsSHl"
      },
      "execution_count": null,
      "outputs": []
    },
    {
      "cell_type": "code",
      "source": [
        "print(\"class 0: green color\")\n",
        "print(\"class 1: cyan color\")\n",
        "print(\"class 2: yellow color\")\n",
        "print(\"class 3: purple color\")\n",
        "print(\"class 4: sienna color\")\n",
        "print(\"The Red dots are the centroids of that particular class\")"
      ],
      "metadata": {
        "id": "xpsEUNu14cf0"
      },
      "execution_count": null,
      "outputs": []
    }
  ]
}