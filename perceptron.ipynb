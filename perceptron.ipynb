{
  "cells": [
    {
      "cell_type": "markdown",
      "metadata": {
        "id": "view-in-github",
        "colab_type": "text"
      },
      "source": [
        "<a href=\"https://colab.research.google.com/github/chabhadia-nikhil/Collab_ML/blob/main/perceptron.ipynb\" target=\"_parent\"><img src=\"https://colab.research.google.com/assets/colab-badge.svg\" alt=\"Open In Colab\"/></a>"
      ]
    },
    {
      "cell_type": "code",
      "execution_count": null,
      "metadata": {
        "colab": {
          "background_save": true
        },
        "id": "f1aolS23syNH"
      },
      "outputs": [],
      "source": [
        "import numpy as np\n",
        "import matplotlib.pyplot as plt\n",
        "import pandas as pd\n",
        "import sklearn\n",
        "from sklearn.datasets import make_classification\n",
        "from sklearn.model_selection import train_test_split\n",
        "from sklearn.metrics import confusion_matrix, ConfusionMatrixDisplay,accuracy_score"
      ]
    },
    {
      "cell_type": "code",
      "execution_count": null,
      "metadata": {
        "id": "sHmN8D6Hs8aM"
      },
      "outputs": [],
      "source": [
        "#weight vector and making it to -1 and 1\n",
        "w=np.random.rand(5)"
      ]
    },
    {
      "cell_type": "code",
      "execution_count": null,
      "metadata": {
        "id": "kErtugcSthbt"
      },
      "outputs": [],
      "source": [
        "#train model\n",
        "def perceptron_training(X_train,y_train,w):\n",
        "    y_cal =[]\n",
        "    mistake = 0\n",
        "    for i in range (80):\n",
        "        y_cal .append(np.sign(np.dot(X_train[i,:],w)))\n",
        "        if y_cal[i]!=y_train[i]:\n",
        "            w=w+y_train[i]*X_train[i,:]\n",
        "            w=w/np.linalg.norm(w)\n",
        "            mistake+=1\n",
        "    return mistake,w\n"
      ]
    },
    {
      "cell_type": "code",
      "execution_count": null,
      "metadata": {
        "id": "ZrOuMiigtlHo"
      },
      "outputs": [],
      "source": [
        "# prediciting y\n",
        "def prediction(X_test,y_test,new_weight):\n",
        "    wrong=0\n",
        "    y_predicted=[]\n",
        "    for i in range(20):\n",
        "        y_predicted.append(np.sign(np.dot(X_test[i,:],w)))\n",
        "        print(\"Predicition y:\",y_predicted[i],\"Actual y:\",y_test[i])\n",
        "        if y_predicted[i]!=y_test[i]:\n",
        "            wrong+=1\n",
        "    return wrong,y_predicted\n"
      ]
    },
    {
      "cell_type": "code",
      "execution_count": null,
      "metadata": {
        "id": "9SW7x5AHttRc"
      },
      "outputs": [],
      "source": [
        "# making classification set\n",
        "X, y = make_classification(n_samples=100, n_features=5,n_classes=2)\n"
      ]
    },
    {
      "cell_type": "code",
      "execution_count": null,
      "metadata": {
        "id": "CGOz3PFTt0Oz"
      },
      "outputs": [],
      "source": [
        "#making y as -1 and 1\n",
        "y=2*y-1"
      ]
    },
    {
      "cell_type": "code",
      "execution_count": null,
      "metadata": {
        "id": "uZn1Ii0Bt3TP"
      },
      "outputs": [],
      "source": [
        "#making x in -1 to 1\n",
        "for i in range(100):\n",
        "    X[i] = X[i]/np.linalg.norm(X[i])"
      ]
    },
    {
      "cell_type": "code",
      "execution_count": null,
      "metadata": {
        "id": "VpXhg_Cet6ZE"
      },
      "outputs": [],
      "source": [
        "#splitting dataset\n",
        "X_train,X_test,y_train,y_test = train_test_split(X,y,test_size=0.2)"
      ]
    },
    {
      "cell_type": "code",
      "execution_count": null,
      "metadata": {
        "id": "cP60iAIYLqlA"
      },
      "outputs": [],
      "source": [
        "print(X_train)"
      ]
    },
    {
      "cell_type": "code",
      "execution_count": null,
      "metadata": {
        "colab": {
          "base_uri": "https://localhost:8080/"
        },
        "id": "UuNUF1pQt9qD",
        "outputId": "89389f7a-ada1-45f2-ead5-b9be6a496693"
      },
      "outputs": [
        {
          "name": "stdout",
          "output_type": "stream",
          "text": [
            "Predicition y: -1.0 Actual y: 1\n",
            "Predicition y: 1.0 Actual y: -1\n",
            "Predicition y: -1.0 Actual y: -1\n",
            "Predicition y: 1.0 Actual y: 1\n",
            "Predicition y: -1.0 Actual y: 1\n",
            "Predicition y: -1.0 Actual y: -1\n",
            "Predicition y: -1.0 Actual y: -1\n",
            "Predicition y: 1.0 Actual y: 1\n",
            "Predicition y: -1.0 Actual y: -1\n",
            "Predicition y: 1.0 Actual y: 1\n",
            "Predicition y: 1.0 Actual y: 1\n",
            "Predicition y: -1.0 Actual y: -1\n",
            "Predicition y: -1.0 Actual y: -1\n",
            "Predicition y: 1.0 Actual y: 1\n",
            "Predicition y: -1.0 Actual y: 1\n",
            "Predicition y: 1.0 Actual y: 1\n",
            "Predicition y: -1.0 Actual y: -1\n",
            "Predicition y: -1.0 Actual y: -1\n",
            "Predicition y: -1.0 Actual y: -1\n",
            "Predicition y: 1.0 Actual y: 1\n"
          ]
        }
      ],
      "source": [
        "#assign data\n",
        "mistake_in_training,updated_weight = perceptron_training(X_train, y_train, w)\n",
        "wrong_prediction,predicted_y=prediction(X_test, y_test, updated_weight)"
      ]
    },
    {
      "cell_type": "code",
      "execution_count": null,
      "metadata": {
        "colab": {
          "base_uri": "https://localhost:8080/"
        },
        "id": "Au7oQbwJuBmL",
        "outputId": "581b1946-f7e9-48fd-d7dd-f9752406d238"
      },
      "outputs": [
        {
          "name": "stdout",
          "output_type": "stream",
          "text": [
            "\n",
            "\n",
            "Mistake_in_training:  18\n",
            "Updated_weight:  [-0.09473023  0.49862397  0.69343819 -0.50832015  0.05616427]\n",
            "Wrong_prediction:  4\n",
            "Predicted_y:  [-1.0, 1.0, -1.0, 1.0, -1.0, -1.0, -1.0, 1.0, -1.0, 1.0, 1.0, -1.0, -1.0, 1.0, -1.0, 1.0, -1.0, -1.0, -1.0, 1.0]\n"
          ]
        }
      ],
      "source": [
        "#printing\n",
        "print(\"\\n\")\n",
        "print(\"Mistake_in_training: \",mistake_in_training )\n",
        "print(\"Updated_weight: \",updated_weight)\n",
        "print(\"Wrong_prediction: \",wrong_prediction )\n",
        "print(\"Predicted_y: \",predicted_y )"
      ]
    },
    {
      "cell_type": "code",
      "execution_count": null,
      "metadata": {
        "id": "y8EQWREauEfF"
      },
      "outputs": [],
      "source": [
        "#ploting graph of all data set\n",
        "fig, axes = plt.subplots(2, 2, figsize=(12, 10))\n",
        "# Plot 1: Overall Data Set\n",
        "axes[0, 0].scatter(X[:, 0], X[:, 1], c=y, label=\"Overall data set\")\n",
        "axes[0, 0].set_title(\"Overall Data Set\")\n",
        "axes[0, 0].set_xlabel(\"Feature 1\")\n",
        "axes[0, 0].set_ylabel(\"Feature 2\")\n",
        "axes[0, 0].legend()\n",
        "# Plot 2: Splitted Data Set\n",
        "axes[0, 1].scatter(X_train[:, 0], X_train[:, 1], c=y_train, marker='^', edgecolors='black', label=\"training data set\")\n",
        "axes[0, 1].scatter(X_test[:, 0], X_test[:, 1], c=y_test, marker='*', edgecolors='green', label=\"testing data set\")\n",
        "axes[0, 1].set_title(\"Splitted Data Set\")\n",
        "axes[0, 1].set_xlabel(\"Feature 1\")\n",
        "axes[0, 1].set_ylabel(\"Feature 2\")\n",
        "axes[0, 1].legend()\n",
        "# Plot 3: Splitted Data Set with Predicted Labels\n",
        "axes[1, 0].scatter(X_train[:, 0], X_train[:, 1], c=y_train, marker='*', edgecolors='black', label=\"training data set\")\n",
        "axes[1, 0].scatter(X_test[:, 0], X_test[:, 1], c=y_test, marker='^', edgecolors='red', label=\"testing data set\")\n",
        "axes[1, 0].scatter(X_test[:, 0], X_test[:, 1], c=predicted_y, marker='o', edgecolors='green', label=\"predicted data set\")\n",
        "axes[1, 0].set_title(\"With Predicted DataSet\")\n",
        "axes[1, 0].set_xlabel(\"Feature 1\")\n",
        "axes[1, 0].set_ylabel(\"Feature 2\")\n",
        "axes[1, 0].legend()\n",
        "# Plot 4: Decision Boundary\n",
        "axes[1, 1].scatter(X[:, 0], X[:, 1], c=y, label=\"Overall data set\")\n",
        "xmin, xmax = plt.xlim()\n",
        "ymin, ymax=plt.ylim()\n",
        "x_range = np.linspace(xmin, xmax, 100)\n",
        "y_range=np.linspace(ymin, ymax, 100)\n",
        "Y_dec_boundary =updated_weight[0] * x_range + updated_weight[1] * y_range\n",
        "axes[1, 1].plot(x_range, Y_dec_boundary, color='red')\n",
        "axes[1, 1].set_title(\"Decision Boundary\")\n",
        "axes[1, 1].set_xlabel(\"Feature 1\")\n",
        "axes[1, 1].set_ylabel(\"Feature 2\")\n",
        "axes[1, 1].legend()\n",
        "\n",
        "plt.tight_layout()\n",
        "plt.show()"
      ]
    },
    {
      "cell_type": "code",
      "execution_count": null,
      "metadata": {
        "id": "pveq7-QGx0uv"
      },
      "outputs": [],
      "source": [
        "from google.colab import drive\n",
        "drive.mount('/content/drive')"
      ]
    },
    {
      "cell_type": "code",
      "execution_count": null,
      "metadata": {
        "colab": {
          "base_uri": "https://localhost:8080/"
        },
        "id": "AQIjY5ocuWgn",
        "outputId": "6f278670-672a-4aee-c554-0637b323941b"
      },
      "outputs": [
        {
          "name": "stdout",
          "output_type": "stream",
          "text": [
            "Accuracy Score: 0.95\n"
          ]
        }
      ],
      "source": [
        "# Accuracy Score\n",
        "accuracy = accuracy_score(y_test,predicted_y)\n",
        "print(\"Accuracy Score:\", accuracy)"
      ]
    },
    {
      "cell_type": "code",
      "execution_count": null,
      "metadata": {
        "colab": {
          "base_uri": "https://localhost:8080/",
          "height": 526
        },
        "id": "1Fg2JwNsucwv",
        "outputId": "4d10b7d6-9570-42c3-83b8-b90a8b281f93"
      },
      "outputs": [
        {
          "name": "stdout",
          "output_type": "stream",
          "text": [
            "Confusion Matrix:\n",
            "[[ 8  1]\n",
            " [ 0 11]]\n"
          ]
        },
        {
          "data": {
            "image/png": "[encoded data removed]",
            "text/plain": [
              "<Figure size 640x480 with 2 Axes>"
            ]
          },
          "metadata": {},
          "output_type": "display_data"
        }
      ],
      "source": [
        "# Confusion Matrix\n",
        "conf_matrix = confusion_matrix(y_test, predicted_y)\n",
        "print(\"Confusion Matrix:\")\n",
        "print(conf_matrix)\n",
        "disp=ConfusionMatrixDisplay(confusion_matrix=conf_matrix)\n",
        "disp.plot()\n",
        "plt.title(\"Confusion Matrix\")\n",
        "plt.show()"
      ]
    }
  ],
  "metadata": {
    "colab": {
      "provenance": [],
      "authorship_tag": "ABX9TyNq4YmQ1wLXbHbNyF3Jk1MN",
      "include_colab_link": true
    },
    "kernelspec": {
      "display_name": "Python 3",
      "name": "python3"
    },
    "language_info": {
      "name": "python"
    }
  },
  "nbformat": 4,
  "nbformat_minor": 0
}