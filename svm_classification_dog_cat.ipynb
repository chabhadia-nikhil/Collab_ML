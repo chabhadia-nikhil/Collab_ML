{
  "cells": [
    {
      "cell_type": "markdown",
      "metadata": {
        "id": "view-in-github",
        "colab_type": "text"
      },
      "source": [
        "<a href=\"https://colab.research.google.com/github/chabhadia-nikhil/Collab_ML/blob/main/svm_classification_dog_cat.ipynb\" target=\"_parent\"><img src=\"https://colab.research.google.com/assets/colab-badge.svg\" alt=\"Open In Colab\"/></a>"
      ]
    },
    {
      "cell_type": "code",
      "execution_count": 1,
      "metadata": {
        "id": "Rbn1V4vogsfM"
      },
      "outputs": [],
      "source": [
        "import numpy as np\n",
        "import pandas as pd\n",
        "import matplotlib as plt\n",
        "import os\n",
        "import cv2\n",
        "from sklearn.svm import SVC"
      ]
    },
    {
      "cell_type": "markdown",
      "metadata": {
        "id": "NcQfdA_ghGuf"
      },
      "source": [
        "# Importing images"
      ]
    },
    {
      "cell_type": "code",
      "execution_count": 8,
      "metadata": {
        "id": "ZtiCq46ShFrq"
      },
      "outputs": [],
      "source": [
        "train_data_cat = \"/content/drive/MyDrive/prodigy_ml_linearreg/dog n cat/cat\"\n",
        "train_data_dog = \"/content/drive/MyDrive/prodigy_ml_linearreg/dog n cat/dog\"\n",
        "test_data = \"/content/drive/MyDrive/prodigy_ml_linearreg/dog n cat/test\"\n",
        "\n",
        "cat = os.listdir(train_data_cat)\n",
        "dog = os.listdir(train_data_dog)"
      ]
    },
    {
      "cell_type": "code",
      "execution_count": 9,
      "metadata": {
        "id": "RGBKqyz0rUAK"
      },
      "outputs": [],
      "source": [
        "#%% making arrays\n",
        "img_cat =[]\n",
        "img_dog =[]\n"
      ]
    },
    {
      "cell_type": "code",
      "execution_count": 10,
      "metadata": {
        "id": "Rmr76DBHP6F4"
      },
      "outputs": [],
      "source": [
        "#%%    Creating dataframe\n",
        "df1 = pd.DataFrame()\n",
        "df1['Images'] = cat\n",
        "df1['Target'] = 'Cat'\n",
        "\n",
        "df2 = pd.DataFrame()\n",
        "df2['Images'] = dog\n",
        "df2['Target'] = 'Dog'"
      ]
    },
    {
      "cell_type": "code",
      "execution_count": 18,
      "metadata": {
        "id": "Y2OdAK9FP8ED"
      },
      "outputs": [],
      "source": [
        "#%% targets\n",
        "target =[]\n",
        "for i in range(761):\n",
        "    target.append(0) #for cat\n",
        "for i in range(761):\n",
        "    target.append(1) #for dog"
      ]
    },
    {
      "cell_type": "code",
      "execution_count": null,
      "metadata": {
        "id": "GqLbm2MYQAln"
      },
      "outputs": [],
      "source": [
        "#%%   Making an array for input\n",
        "def flatten(i):\n",
        "    img = cv2.imread(os.path.join(train_data_cat,df1.Images[i]))\n",
        "    img = cv2.resize(img,(255,255))\n",
        "    img_cat.append(img.flatten())\n",
        "\n",
        "    img = cv2.imread(os.path.join(train_data_dog,df2.Images[i]))\n",
        "    img = cv2.resize(img,(255,255))\n",
        "    img_dog.append(img.flatten())\n",
        "\n",
        "\n",
        "\n",
        "for i in range(761):# we can also take len(df2) as both have same loop we implement it in the same loop\n",
        "    flatten(i)"
      ]
    },
    {
      "cell_type": "code",
      "execution_count": 16,
      "metadata": {
        "id": "9cTXwAVBQD2N"
      },
      "outputs": [],
      "source": [
        "#%%  final train input\n",
        "\n",
        "train = []\n",
        "train.append(img_cat)\n",
        "train.append(img_dog)\n",
        "train = np.reshape(train,(-1,255*255*3))\n",
        "train = train/255"
      ]
    },
    {
      "cell_type": "code",
      "execution_count": 29,
      "metadata": {
        "id": "26ONvDkIQIfM"
      },
      "outputs": [],
      "source": [
        "#%% Training model\n",
        "\n",
        "svm = SVC( kernel='linear',C=1).fit(train,target)"
      ]
    },
    {
      "cell_type": "code",
      "execution_count": 30,
      "metadata": {
        "id": "K-ZHDQRnQLOk"
      },
      "outputs": [],
      "source": [
        "#%% test\n",
        "tst = os.listdir(test_data)\n",
        "\n",
        "test = pd.DataFrame()\n",
        "test['samples'] = tst\n",
        "final_test =[]\n",
        "\n",
        "for i in range(200):\n",
        "    img = cv2.imread(os.path.join(test_data,test.samples[i]))\n",
        "    img = cv2.resize(img,(255,255))\n",
        "    final_test.append(img.flatten())\n",
        "final_test = np.reshape(final_test,(-1,255*255*3))\n",
        "final_test = final_test/255"
      ]
    },
    {
      "cell_type": "code",
      "execution_count": 31,
      "metadata": {
        "id": "zl5rvC0qQN4B"
      },
      "outputs": [],
      "source": [
        "#%% prediciton\n",
        "x=np.arange(1,201)\n",
        "output =[]\n",
        "for i in range(200):\n",
        "    y=svm.predict([final_test[i]])\n",
        "    output.append(y)\n",
        "\n",
        "final_df = pd.DataFrame()\n",
        "final_df['Samples'] = x\n",
        "final_df['Prediction'] = output"
      ]
    },
    {
      "cell_type": "code",
      "source": [
        "tr = \"/content/drive/MyDrive/prodigy_ml_linearreg/dog n cat/result - result.csv\"\n",
        "true = pd.DataFrame\n",
        "true = pd.read_csv(tr)"
      ],
      "metadata": {
        "id": "VUP_SqZE2afl"
      },
      "execution_count": 32,
      "outputs": []
    },
    {
      "cell_type": "code",
      "source": [
        "true.head(10)"
      ],
      "metadata": {
        "id": "qsXvoAMBO1Wo"
      },
      "execution_count": null,
      "outputs": []
    },
    {
      "cell_type": "code",
      "source": [
        "from sklearn.metrics import accuracy_score\n",
        "print(accuracy_score(true.TRUE,output))"
      ],
      "metadata": {
        "colab": {
          "base_uri": "https://localhost:8080/"
        },
        "id": "BknXbJxj2Mom",
        "outputId": "5d1cc4af-d930-46d6-9115-681cce5bd591"
      },
      "execution_count": 34,
      "outputs": [
        {
          "output_type": "stream",
          "name": "stdout",
          "text": [
            "0.455\n"
          ]
        }
      ]
    },
    {
      "cell_type": "code",
      "source": [
        "from sklearn.metrics import classification_report\n",
        "print(\"Accuracy on unknown data is\",classification_report(true.TRUE,output))"
      ],
      "metadata": {
        "id": "FWDw86WX_rKy"
      },
      "execution_count": null,
      "outputs": []
    },
    {
      "cell_type": "code",
      "execution_count": null,
      "metadata": {
        "id": "4lLQj8G4QQTF"
      },
      "outputs": [],
      "source": [
        "#%% making csv file\n",
        "final_df.to_csv('result.csv')"
      ]
    },
    {
      "cell_type": "code",
      "execution_count": null,
      "metadata": {
        "id": "baNehgJPQWCH"
      },
      "outputs": [],
      "source": [
        "#%%\n",
        "\n",
        "'''\n",
        "  cv2.imshow('original',img )\n",
        "  cv2.waitKey(2000)\n",
        "  cv2.destroyAllWindows()\n",
        "  img = cv2.imread(\"D:\\internships\\prodigy\\dogs n cats\\cat\\cat.0.jpg\",0)\n",
        "  img=cv2.resize(img, (255,255))\n",
        "  cv2.imshow('resize',img )\n",
        "  cv2.waitKey(2000)\n",
        "  cv2.destroyAllWindows()\n",
        "\n",
        "'''"
      ]
    },
    {
      "cell_type": "markdown",
      "metadata": {
        "id": "pZD6HOgLhLEQ"
      },
      "source": []
    }
  ],
  "metadata": {
    "colab": {
      "provenance": [],
      "mount_file_id": "1U-8SFgQhiIDVmnxV9gZxAT0BZfeCUlgH",
      "authorship_tag": "ABX9TyPlfbHa1X4v2NVvjRYZyt4R",
      "include_colab_link": true
    },
    "kernelspec": {
      "display_name": "Python 3",
      "name": "python3"
    },
    "language_info": {
      "name": "python"
    }
  },
  "nbformat": 4,
  "nbformat_minor": 0
}